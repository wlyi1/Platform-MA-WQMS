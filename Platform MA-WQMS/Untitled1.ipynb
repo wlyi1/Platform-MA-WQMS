{
 "cells": [
  {
   "cell_type": "code",
   "execution_count": null,
   "id": "fded920b",
   "metadata": {},
   "outputs": [],
   "source": [
    "import importlib.util\n",
    "\n"
   ]
  },
  {
   "cell_type": "code",
   "execution_count": null,
   "id": "2902f1db",
   "metadata": {},
   "outputs": [],
   "source": [
    "baz = module_from_file('test', '../test.py')"
   ]
  },
  {
   "cell_type": "code",
   "execution_count": null,
   "id": "6399eccf",
   "metadata": {},
   "outputs": [],
   "source": [
    "baz"
   ]
  },
  {
   "cell_type": "code",
   "execution_count": null,
   "id": "5a9687c3",
   "metadata": {},
   "outputs": [],
   "source": [
    "print(baz)"
   ]
  },
  {
   "cell_type": "code",
   "execution_count": null,
   "id": "63044763",
   "metadata": {},
   "outputs": [],
   "source": [
    "baz.a"
   ]
  },
  {
   "cell_type": "code",
   "execution_count": null,
   "id": "62a25f36",
   "metadata": {},
   "outputs": [],
   "source": [
    "def module_from_file(module_name, file_path):\n",
    "    spec = importlib.util.spec_from_file_location(module_name, file_path)\n",
    "    module = importlib.util.module_from_spec(spec)\n",
    "    spec.loader.exec_module(module)\n",
    "    return module"
   ]
  },
  {
   "cell_type": "code",
   "execution_count": null,
   "id": "45d3d5fe",
   "metadata": {},
   "outputs": [],
   "source": [
    "import pandas as pd"
   ]
  },
  {
   "cell_type": "code",
   "execution_count": null,
   "id": "22970134",
   "metadata": {},
   "outputs": [],
   "source": [
    "file = pd.read_csv('RTU_INFO.csv')"
   ]
  },
  {
   "cell_type": "code",
   "execution_count": null,
   "id": "bac05008",
   "metadata": {},
   "outputs": [],
   "source": [
    "file"
   ]
  },
  {
   "cell_type": "code",
   "execution_count": null,
   "id": "0a80a5ee",
   "metadata": {},
   "outputs": [],
   "source": [
    "id_stasiun = file['ID'].tolist()"
   ]
  },
  {
   "cell_type": "code",
   "execution_count": null,
   "id": "456e30db",
   "metadata": {},
   "outputs": [],
   "source": [
    "file.to_csv('id_stasiun.csv', index=False)"
   ]
  },
  {
   "cell_type": "code",
   "execution_count": null,
   "id": "3ff36ee6",
   "metadata": {},
   "outputs": [],
   "source": [
    "files = pd.read_csv('id_stasiun.csv')"
   ]
  },
  {
   "cell_type": "code",
   "execution_count": null,
   "id": "7c7408ea",
   "metadata": {},
   "outputs": [],
   "source": [
    "files"
   ]
  },
  {
   "cell_type": "code",
   "execution_count": null,
   "id": "a2c0ffa3",
   "metadata": {},
   "outputs": [],
   "source": [
    "test = files['CODE'][0]\n",
    "test"
   ]
  },
  {
   "cell_type": "code",
   "execution_count": null,
   "id": "ff3e78d3",
   "metadata": {},
   "outputs": [],
   "source": [
    "ang = files[files['CODE']==test].index.values + 10"
   ]
  },
  {
   "cell_type": "code",
   "execution_count": null,
   "id": "230c913e",
   "metadata": {},
   "outputs": [],
   "source": [
    "int(ang)"
   ]
  },
  {
   "cell_type": "code",
   "execution_count": null,
   "id": "aa4d8432",
   "metadata": {},
   "outputs": [],
   "source": [
    "files['CODE']"
   ]
  },
  {
   "cell_type": "code",
   "execution_count": null,
   "id": "d4a58252",
   "metadata": {},
   "outputs": [],
   "source": [
    "import pyodbc\n",
    "from sqlalchemy import create_engine, event\n",
    "from sqlalchemy.engine import URL\n",
    "\n",
    "files_id = pd.read_csv('id_stasiun.csv')\n",
    "\n",
    "conn_str = 'DRIVER={SQL Server};server=DESKTOP-ELAQ9RU\\SQLEXPRESS;Database=awlr_mondylia;Trusted_Connection=yes;'\n",
    "con_url = URL.create('mssql+pyodbc', query={'odbc_connect': conn_str})\n",
    "engine = create_engine(con_url)\n",
    "\n",
    "id_list = files_id['CODE'].tolist()\n",
    "\n",
    "\n",
    "for df in id_list:\n",
    "    ID = files_id[files_id['CODE'] == df].index.values + 11\n",
    "    globals() [f'query_{df}'] = f\"\"\"select pH, DO, Cond, Turb, Temp, NH4,NO3,ORP,COD,BOD,TSS,logTime as NH3_N,logDate, datepart(hour, logTime) as logTime from periodicdata where Station={int(ID)} order by logDate,logTime\"\"\"\n",
    "    globals() [f'{df}'] = pd.read_sql(globals() [f'query_{df}'], engine, coerce_float=False)\n",
    "    globals() [f\"{df}['logDate']\"] = pd.to_datetime(globals() [f'{df}']['logDate']).dt.date\n",
    "    \n",
    "    globals() [f'pH_{df}'] = [x for x in globals()[f'{df}'][-24:]['pH']]\n",
    "    globals() [f'ab_pH_{df}'] = sum(map(lambda x : x<5 and x>9, globals()[f'pH_{df}']))\n",
    "    globals() [f'DO_{df}'] = [x for x in globals()[f'{df}'][-24:]['DO']]\n",
    "    globals() [f'ab_DO_{df}'] = sum(map(lambda x : x<1, globals()[f'DO_{df}']))\n",
    "    globals() [f'NH4_{df}'] = [x for x in globals()[f'{df}'][-24:]['NH4']]\n",
    "    globals() [f'ab_NH4_{df}'] = sum(map(lambda x : x>100, globals()[f'NH4_{df}']))\n",
    "    globals() [f'NO3_{df}'] = [x for x in globals()[f'{df}'][-24:]['NO3']]\n",
    "    globals() [f'ab_NO3_{df}'] = sum(map(lambda x : x>100, globals()[f'NO3_{df}']))\n",
    "    globals()[f'tgl_{df}'] = globals()[f'{df}']['logDate'].max()"
   ]
  },
  {
   "cell_type": "code",
   "execution_count": null,
   "id": "406664ce",
   "metadata": {},
   "outputs": [],
   "source": [
    "OL43['logDate'].max()"
   ]
  },
  {
   "cell_type": "code",
   "execution_count": null,
   "id": "660cc3c1",
   "metadata": {},
   "outputs": [],
   "source": [
    "OL41['pH'][-24:]"
   ]
  },
  {
   "cell_type": "code",
   "execution_count": null,
   "id": "dc7b6153",
   "metadata": {},
   "outputs": [],
   "source": [
    "c = [x for x in OL41[-24:]['pH']]"
   ]
  },
  {
   "cell_type": "code",
   "execution_count": null,
   "id": "8b86007a",
   "metadata": {},
   "outputs": [],
   "source": [
    "OL41.tail(20)"
   ]
  },
  {
   "cell_type": "code",
   "execution_count": null,
   "id": "722fbe88",
   "metadata": {},
   "outputs": [],
   "source": [
    "OL41['logDate'][1] == globals()[f'{df}']['tgl'].max().strftime((\"%Y-%m-%d %H:%M\"))"
   ]
  },
  {
   "cell_type": "code",
   "execution_count": null,
   "id": "a3b868ad",
   "metadata": {},
   "outputs": [],
   "source": [
    "OL41[-24:]['pH']"
   ]
  },
  {
   "cell_type": "code",
   "execution_count": null,
   "id": "9a673c31",
   "metadata": {},
   "outputs": [],
   "source": [
    "OL41"
   ]
  },
  {
   "cell_type": "code",
   "execution_count": null,
   "id": "3ab7dc25",
   "metadata": {},
   "outputs": [],
   "source": [
    "pd.to_datetime(OL41['logDate']).dt.date"
   ]
  },
  {
   "cell_type": "code",
   "execution_count": null,
   "id": "d6284e1f",
   "metadata": {},
   "outputs": [],
   "source": [
    "datetime.strptime(OL41['logDate'].max(), '%Y-%m-%d') == datetime.today()"
   ]
  },
  {
   "cell_type": "code",
   "execution_count": null,
   "id": "a8a873fb",
   "metadata": {},
   "outputs": [],
   "source": [
    "OL41['logDate'][1]"
   ]
  },
  {
   "cell_type": "code",
   "execution_count": null,
   "id": "ba44d98b",
   "metadata": {},
   "outputs": [],
   "source": [
    "type(datetime.today().strftime('%Y-%m-%d'))"
   ]
  },
  {
   "cell_type": "code",
   "execution_count": null,
   "id": "cd3c6aa8",
   "metadata": {},
   "outputs": [],
   "source": [
    "type(OL41['logDate'].max())"
   ]
  },
  {
   "cell_type": "code",
   "execution_count": null,
   "id": "048fbd63",
   "metadata": {},
   "outputs": [],
   "source": [
    "tgl1 == datetime.today()"
   ]
  },
  {
   "cell_type": "code",
   "execution_count": null,
   "id": "052a252f",
   "metadata": {},
   "outputs": [],
   "source": [
    "tgl1 = datetime.strptime(OL41['logDate'].max(), '%Y-%m-%d')\n"
   ]
  },
  {
   "cell_type": "code",
   "execution_count": null,
   "id": "10489597",
   "metadata": {},
   "outputs": [],
   "source": [
    "from datetime import datetime\n",
    "datetime.today().strftime('%Y-%m-%d')"
   ]
  },
  {
   "cell_type": "code",
   "execution_count": null,
   "id": "92359c51",
   "metadata": {},
   "outputs": [],
   "source": [
    "datetime.today().strftime('%Y-%m-%d')"
   ]
  },
  {
   "cell_type": "code",
   "execution_count": null,
   "id": "56ef96f5",
   "metadata": {},
   "outputs": [],
   "source": [
    "float(2.3444)"
   ]
  },
  {
   "cell_type": "code",
   "execution_count": null,
   "id": "81e66442",
   "metadata": {},
   "outputs": [],
   "source": [
    "import pywhatkit as pwk"
   ]
  },
  {
   "cell_type": "code",
   "execution_count": 1,
   "id": "a04298b9",
   "metadata": {},
   "outputs": [],
   "source": [
    "from datetime import datetime\n",
    "jam = datetime.now()"
   ]
  },
  {
   "cell_type": "code",
   "execution_count": 6,
   "id": "b506cabe",
   "metadata": {},
   "outputs": [
    {
     "data": {
      "text/plain": [
       "15"
      ]
     },
     "execution_count": 6,
     "metadata": {},
     "output_type": "execute_result"
    }
   ],
   "source": [
    "jam.hour"
   ]
  },
  {
   "cell_type": "code",
   "execution_count": null,
   "id": "5d4788c9",
   "metadata": {},
   "outputs": [],
   "source": [
    "pwk.sendwhatmsg('+6285697658330', 'terima kasih', jam.hour, jam.minute+2)"
   ]
  },
  {
   "cell_type": "code",
   "execution_count": 3,
   "id": "2e9b443a",
   "metadata": {},
   "outputs": [],
   "source": [
    "import datetime"
   ]
  },
  {
   "cell_type": "code",
   "execution_count": 5,
   "id": "3947145d",
   "metadata": {},
   "outputs": [
    {
     "ename": "AttributeError",
     "evalue": "module 'datetime' has no attribute 'hour'",
     "output_type": "error",
     "traceback": [
      "\u001b[1;31m---------------------------------------------------------------------------\u001b[0m",
      "\u001b[1;31mAttributeError\u001b[0m                            Traceback (most recent call last)",
      "Input \u001b[1;32mIn [5]\u001b[0m, in \u001b[0;36m<cell line: 1>\u001b[1;34m()\u001b[0m\n\u001b[1;32m----> 1\u001b[0m \u001b[43mdatetime\u001b[49m\u001b[38;5;241;43m.\u001b[39;49m\u001b[43mhour\u001b[49m\n",
      "\u001b[1;31mAttributeError\u001b[0m: module 'datetime' has no attribute 'hour'"
     ]
    }
   ],
   "source": [
    "datetime.hour"
   ]
  },
  {
   "cell_type": "code",
   "execution_count": null,
   "id": "7e259de3",
   "metadata": {},
   "outputs": [],
   "source": []
  }
 ],
 "metadata": {
  "kernelspec": {
   "display_name": "Python 3 (ipykernel)",
   "language": "python",
   "name": "python3"
  },
  "language_info": {
   "codemirror_mode": {
    "name": "ipython",
    "version": 3
   },
   "file_extension": ".py",
   "mimetype": "text/x-python",
   "name": "python",
   "nbconvert_exporter": "python",
   "pygments_lexer": "ipython3",
   "version": "3.10.6"
  }
 },
 "nbformat": 4,
 "nbformat_minor": 5
}
